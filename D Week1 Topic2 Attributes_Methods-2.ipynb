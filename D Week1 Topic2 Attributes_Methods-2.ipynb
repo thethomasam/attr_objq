{
 "cells": [
  {
   "cell_type": "code",
   "execution_count": null,
   "metadata": {},
   "outputs": [],
   "source": [
    "import pandas as pd\n",
    "import numpy as np\n",
    "%matplotlib inline\n",
    "import otter\n",
    "grader = otter.Notebook()"
   ]
  },
  {
   "cell_type": "markdown",
   "metadata": {},
   "source": [
    "# D | Week 1: Practice Attributes & Methods\n",
    "\n",
    "------\n",
    "\n",
    "### Instructions:\n",
    "\n",
    "- Complete 50 points worth of questions to pass the assessment\n",
    "  - You can attempt any number of questions and in any order provided you pass at least 50 points.\n",
    "- Develop and check your answers in the spaces provided.\n",
    "  - Do not remove any variables other provided markings already present in the answer spaces.\n",
    "  - Do not make any changes to this notebook outside of the answer spaces provided.\n",
    "  \n",
    "#### Submitting\n",
    "\n",
    "- Upload your .ipynb file to Gradescope (Make sure to restart the kernel and run all before you submit)\n",
    "- You can submit as many times as needed\n",
    "- When reviewing results, ignore any results listed under \"Public Tests\"\n",
    "\n",
    "For more information, see the assessment page. We have also provided an example question below for clarity. "
   ]
  },
  {
   "cell_type": "markdown",
   "metadata": {},
   "source": [
    "#### Question 1&nbsp;&nbsp;&nbsp;&nbsp;&nbsp;&nbsp;(3 Points)\n",
    "\n",
    "Write a Python program to create `Q1Health` class with `height` (in m) and `weight` (in kg) as instance attributes, create object as `q1_o` and `height` as 1.6 and `weight` as 72"
   ]
  },
  {
   "cell_type": "code",
   "execution_count": 2,
   "metadata": {
    "tags": []
   },
   "outputs": [],
   "source": [
    "# Write your solution here\n",
    "class Q1Health:\n",
    "    def __init__(self,height,weight):\n",
    "        self.height=height\n",
    "        self.weight=weight\n",
    "q1_o=Q1Health(1.6,72)"
   ]
  },
  {
   "cell_type": "markdown",
   "metadata": {},
   "source": [
    "#### Question 2&nbsp;&nbsp;&nbsp;&nbsp;&nbsp;&nbsp;(3 Points)\n",
    "\n",
    "Create a `bmi` method in the `Q2Health` class that will use all of the variables and methods of the `Health` class and calculate the BMI using formula BMI = weight(kg) / height(m)^2. Create object `q2_o` using weight 72 and height 1.6. The BMI value should be rounded to two decimal places."
   ]
  },
  {
   "cell_type": "code",
   "execution_count": 7,
   "metadata": {
    "tags": []
   },
   "outputs": [
    {
     "name": "stdout",
     "output_type": "stream",
     "text": [
      "28.12\n"
     ]
    }
   ],
   "source": [
    "# Write your solution here\n",
    "class Health:\n",
    "    def __init__(self,height,weight):\n",
    "        self.height=height\n",
    "        self.weight=weight\n",
    "    \n",
    "\n",
    "class Q2Health(Health):\n",
    "    def __init__(self,height,weight):\n",
    "         Health.__init__(self,height,weight)\n",
    "        \n",
    "\n",
    "    def bmi(self):\n",
    "        self.bmi=self.weight/(self.height)**2\n",
    "        self.bmi=round(self.bmi,2)\n",
    "        print(self.bmi)\n",
    "        \n",
    "q2_o=Q2Health(1.6,72)\n",
    "q2_o.bmi()\n"
   ]
  },
  {
   "cell_type": "markdown",
   "metadata": {},
   "source": [
    "#### Question 3&nbsp;&nbsp;&nbsp;&nbsp;&nbsp;&nbsp;(3 Points)\n",
    "Create a new class `Q3Health` and use `set_height` and `set_weight` method tso set values of height and weight. Create object `q3_o` and set values 1.6 for height and 72 for weight using the two methods, `set_height` and `set_weight`."
   ]
  },
  {
   "cell_type": "code",
   "execution_count": 13,
   "metadata": {
    "tags": []
   },
   "outputs": [
    {
     "data": {
      "text/plain": [
       "72"
      ]
     },
     "execution_count": 13,
     "metadata": {},
     "output_type": "execute_result"
    }
   ],
   "source": [
    "# Write your solution here\n",
    "class Q3Health():\n",
    "    def set_height(self,height):\n",
    "        self._height=height\n",
    "        \n",
    "    def set_weight(self,weight):\n",
    "        self._weight=weight\n",
    "    def get_height(self):\n",
    "        return self._height\n",
    "        \n",
    "    def get_weight(self):\n",
    "        return self._weight\n",
    "q3_o=Q3Health()\n",
    "q3_o.set_height(1.6)\n",
    "q3_o.set_weight(72)\n",
    "q3_o.get_height()\n",
    "q3_o.get_weight()\n",
    "\n",
    "\n"
   ]
  },
  {
   "cell_type": "markdown",
   "metadata": {},
   "source": [
    "#### Question 4&nbsp;&nbsp;&nbsp;&nbsp;&nbsp;&nbsp;(3 Points)\n",
    "Create a `Q4DeafultHealth` class. Give the height argument of `DeafultHealth` a default value of 2, and the weight argument a default value of 12. Create the following methods in `DeafultHealth`.\n",
    "\n",
    "- `def set_height(self,height)`\n",
    "- `def set_weight(self,weight)`\n",
    "- `def bmi(self)`  \n",
    "\n",
    "Create an object `q4_o` and set the weight value as 72 height must be default. Calculate the bmi of `q4_o`."
   ]
  },
  {
   "cell_type": "code",
   "execution_count": 3,
   "metadata": {
    "tags": []
   },
   "outputs": [
    {
     "data": {
      "text/plain": [
       "18.0"
      ]
     },
     "execution_count": 3,
     "metadata": {},
     "output_type": "execute_result"
    }
   ],
   "source": [
    "# Write your solution here\n",
    "\n",
    "class Q4DeafultHealth:\n",
    "    def __init__(self,height=2,weight=12):\n",
    "        self.height=height\n",
    "        self.weight=weight\n",
    "    def set_height(self,height):\n",
    "        self.height=height\n",
    "    def set_weight(self,weight):\n",
    "        self.weight=weight\n",
    "    def bmi(self):\n",
    "        bmi=self.weight/(self.height**2)\n",
    "        return bmi\n",
    "        \n",
    "q4_o=Q4DeafultHealth(weight=72)\n",
    "   \n",
    "q4_o.bmi()       \n",
    "    "
   ]
  },
  {
   "cell_type": "markdown",
   "metadata": {},
   "source": [
    "#### Question 5&nbsp;&nbsp;&nbsp;&nbsp;&nbsp;&nbsp;(3 Points)\n",
    "Create a method `yes_no` in `Q5DefaulHealth` class to check if the BMI is greater than 18. If yes, then the function should return `True`. Otherwise, `False`. Give the value of height as 13 and weight as 40 to the object `q5_o`."
   ]
  },
  {
   "cell_type": "code",
   "execution_count": 32,
   "metadata": {
    "tags": []
   },
   "outputs": [
    {
     "data": {
      "text/plain": [
       "False"
      ]
     },
     "execution_count": 32,
     "metadata": {},
     "output_type": "execute_result"
    }
   ],
   "source": [
    "# Write your solution here\n",
    "\n",
    "class Q5DefaultHealth():\n",
    "    def __init__(self,height,weight):\n",
    "        self.height=height\n",
    "        self.weight=weight\n",
    "    def yes_no(self):\n",
    "        if (self.weight/(self.height**2))>18:\n",
    "            return True\n",
    "        return False\n",
    "q5_o=Q5DefaultHealth(13,40)\n",
    "q5_o.yes_no()\n",
    "  "
   ]
  },
  {
   "cell_type": "markdown",
   "metadata": {},
   "source": [
    "#### Question 6&nbsp;&nbsp;&nbsp;&nbsp;&nbsp;&nbsp;(5 Points)\n",
    "Suppose you want to model a bank account (class name should be `Q6BankAccount`) with initial balance `$1000`, which supports `deposit` and `withdraw` operations using classes and objects. Whenever withdraw, bank would charge `2%` of the withdrawal fees and for deposit bank would give `0.005%` extra. Deposit `$120` and then withdraw `$10`. The outputs of `deposit` and `withdraw` operations should be the existing balance in the bank accound and the balance should be rounded to two decimal places. The outputs of `deposit` and `withdraw` operations need to be assigned to the variables `output6_i` and `output6_ii`\n",
    "\n",
    "Name of the object should be `q6_o`.\n",
    "\n",
    "Mentioned below are the method defnitions of the two methods.\n",
    "- `def withdraw(self, amount)`\n",
    "- `def deposit(self, amount)`"
   ]
  },
  {
   "cell_type": "code",
   "execution_count": 44,
   "metadata": {
    "tags": []
   },
   "outputs": [],
   "source": [
    "# Write your solution here\n",
    "class Q6BankAccount:\n",
    "    def __init__(self):\n",
    "        self.balance=1000\n",
    "    def withdraw(self, amount):\n",
    "        self.balance-=amount+amount*.02\n",
    "        self.balance=round(self.balance,2)\n",
    "        return self.balance\n",
    "    def deposit(self, amount):\n",
    "        self.balance+=amount+amount*(.005/100)\n",
    "        self.balance=round(self.balance,2)\n",
    "        return self.balance\n",
    "x=Q6BankAccount()\n",
    "\n",
    "\n",
    "output6_i=x.deposit(120)\n",
    "output6_ii=x.withdraw(10)"
   ]
  },
  {
   "cell_type": "markdown",
   "metadata": {},
   "source": [
    "#### Question 7&nbsp;&nbsp;&nbsp;&nbsp;&nbsp;&nbsp;(5 Points) \n",
    "Create a class `Q7MinimumBalanceAccount` and don't let the user withdraw money if it's less than minimum balance and print the message \"Sorry, minimum balance must be maintained\" and have a `check_balance` functionality to return the balance and whenever the balance is checked `$0.25` fees is deducted. \n",
    "\n",
    "Create object `q7_o` of class `MinimumBalanceAccount` with `minimum_balance` as `$120`. Set the default balance as `$1000`. Then check balance and then withdraw `$120`. Then check balance again and assign it to the variable `output7`.\n",
    "\n",
    "Mentioned below are the methods definitions.\n",
    "- `def __init__(self, minimum_balance)` (has two attributes `balance` and `minimum_balance`)\n",
    "- `def check_balance(self)`\n",
    "- `def withdraw(self, amount)`"
   ]
  },
  {
   "cell_type": "code",
   "execution_count": 115,
   "metadata": {
    "tags": []
   },
   "outputs": [
    {
     "data": {
      "text/plain": [
       "879.5"
      ]
     },
     "execution_count": 115,
     "metadata": {},
     "output_type": "execute_result"
    }
   ],
   "source": [
    "# Write your solution here\n",
    "\n",
    "class Q7MinimumBalanceAccount():\n",
    "    def __init__(self, minimum_balance):\n",
    "        self.balance=1000\n",
    "        self.minimum_balance=minimum_balance\n",
    "    def check_balance(self):\n",
    "        self.balance-=.25\n",
    "        return self.balance\n",
    "    def withdraw(self, amount):\n",
    "        if self.balance>self.minimum_balance:\n",
    "            self.balance-=amount\n",
    "            return self.balance\n",
    "        else :\n",
    "            return \"Sorry, minimum balance must be maintained\"\n",
    "           \n",
    "        \n",
    "a=Q7MinimumBalanceAccount(120)\n",
    "a.check_balance()\n",
    "a.withdraw(120)\n",
    "output7=a.check_balance()\n",
    "output7"
   ]
  },
  {
   "cell_type": "markdown",
   "metadata": {},
   "source": [
    "#### Question 8&nbsp;&nbsp;&nbsp;&nbsp;&nbsp;&nbsp;(5 Points) \n",
    "Create the class `Q8InterestRate` and calaculate the interest based on the month provided and money amount in the account. \n",
    "\n",
    "It should calculate the both the simple (amount (P) * rate (r) * time (t)) and compund interest(A = P(1 + r/100)^(t)). Rate for the simple interest is `0.2` and compund is `0.05` and amount is the `balance` with the default value of `1000`. Only if balance is greather than `$1000` in both cases the interests need to be calculated, else print \"Not Eligible\". Create the object `q8_o` with value of `time` as `10`, then deposit `500`, then check the `simple_interest` and `compound interest`. The values returned from `simple_interest` and `compound interest` need to be rounded to two decimal places. You can use the same methods for `deposit` and `withdraw` from Q6.\n",
    "\n",
    "Mentioned below are the method definitions.\n",
    "- `def __init__(self, time)`\n",
    "- `def withdraw(self, amount)`\n",
    "- `def deposit(self, amount)`\n",
    "- `def simple_interest(self)`\n",
    "- `def compound_interest(self)`"
   ]
  },
  {
   "cell_type": "code",
   "execution_count": 112,
   "metadata": {
    "tags": []
   },
   "outputs": [
    {
     "data": {
      "text/plain": [
       "3000.0"
      ]
     },
     "execution_count": 112,
     "metadata": {},
     "output_type": "execute_result"
    }
   ],
   "source": [
    "# Write your solution here\n",
    "class Q8InterestRate():\n",
    "    def __init__(self,time):\n",
    "        self.time=time\n",
    "        self.balance=1000\n",
    "    def withdraw(self, amount):\n",
    "        self.balance-=amount\n",
    "    def deposit(self, amount):\n",
    "        self.balance+=amount\n",
    "    def simple_interest(self):\n",
    "        if self.balance>1000:\n",
    "            return round((self.balance * 0.2 * self.time),2)\n",
    "        return \"Not Eligible\"\n",
    "    \n",
    "    def compound_interest(self):\n",
    "        if self.balance>1000:\n",
    "            return round((self.balance*(1 + 0.05/100)**(self.time)),2)\n",
    "        return \"Not Eligible\"\n",
    "    \n",
    "q8_o=Q8InterestRate(10)\n",
    "q8_o.deposit(500)\n",
    "si=q8_o.compound_interest()\n",
    "ci=q8_o.simple_interest()\n",
    "ci"
   ]
  },
  {
   "cell_type": "markdown",
   "metadata": {},
   "source": [
    "#### Question 9&nbsp;&nbsp;&nbsp;&nbsp;&nbsp;&nbsp;(5 Points)\n",
    "The prices of groceries and vegetables are increasing, or be it the fact that bus and taxi fares have increased this is called inflation. Inflation reduces purchasing power. The same 100 AUD we have today was more valuable 10 years ago, and similarly, the same 100 AUD will be less valuable 10 years from now. Inflation reduces the purchasing power of money.\n",
    "\n",
    "To calculate the net purchasing of an amount, we need the inflation rate and the time period. The rates are taken yearly here and the time is also yearly. Calculation of purchasing power can help us compare it against the investment to see if we are gaining money on the investment.\n",
    "\n",
    "Use the class `Q9Inflation` providing the rate and amount. Create the method `calculate_inflation` to calculate inflaion using the formula amount*((100/(100+rate))^time). Create an object `q9_o` and give `time` as 10 and `rate` as 4 to calculate inflation (round to three decimal points). Consider default amount as `$1000`.\n",
    "\n",
    "Use the following method definitions.\n",
    "- `def __init__(self, time, rate)`\n",
    "- `def calculate_inflation(self)`"
   ]
  },
  {
   "cell_type": "code",
   "execution_count": 105,
   "metadata": {
    "tags": []
   },
   "outputs": [
    {
     "name": "stdout",
     "output_type": "stream",
     "text": [
      "675.564\n"
     ]
    }
   ],
   "source": [
    "# Write your solution here\n",
    "class Q9Inflation():\n",
    "    def __init__(self,time,rate):\n",
    "        self.time=time\n",
    "        self.rate=rate\n",
    "        self.balance=1000\n",
    "    def calculate_inflation(self):\n",
    "        self.balance=round(self.balance*((100/(100+self.rate))**self.time),3)\n",
    "        return self.balance\n",
    "    \n",
    "q9_o=Q9Inflation(10,4)\n",
    "print(q9_o.calculate_inflation())\n"
   ]
  },
  {
   "cell_type": "markdown",
   "metadata": {},
   "source": [
    "#### Question 10&nbsp;&nbsp;&nbsp;&nbsp;&nbsp;&nbsp;(5 Points)\n",
    "The EMI (Equated Monthly Instalment) is dependent on various factors like the principal borrowed, rate of interest, tenure of loan, etc. Let us look at the implementation of the calculation of monthly EMI. EMIs are adjusted in such a way that the borrower is able to pay back the amount per month without any delay or problem.\n",
    "\n",
    "Create a class `Q10EMI` that take loan amount (p), interest rate (r) and time (n) and gives the `emi`. \n",
    "Formula is:\n",
    "<br />\n",
    "r_mon=  r/(12 * 100)\n",
    "<br />\n",
    "emi = p * r_mon * ((1+r_mon)^n)/((1+r_mon)^n - 1)\n",
    "\n",
    "\n",
    "Create object `q10_o` and give 00000 for amount, time = 2 and rate = 8\n",
    "It should have `emi` function to calculate EMI (rounded to two decimal points).\n",
    "\n",
    "Mentioned below are the method definitions.\n",
    "- `def __init__(self, amount, time, rate)`\n",
    "- `def emi(self)`"
   ]
  },
  {
   "cell_type": "code",
   "execution_count": 103,
   "metadata": {
    "tags": []
   },
   "outputs": [
    {
     "name": "stdout",
     "output_type": "stream",
     "text": [
      "5050.06\n"
     ]
    }
   ],
   "source": [
    "# Write your solution here\n",
    "class Q10EMI():\n",
    "    def __init__(self,amount, time, rate):\n",
    "        self.amount=amount\n",
    "        self.time=time\n",
    "        self.rate=rate\n",
    "    def emi(self):\n",
    "        r_mon=self.rate/(12*100)\n",
    "        emi=round((self.amount*r_mon)*((1+r_mon)**self.time)/((1+r_mon)**self.time-1),2)\n",
    "        return emi\n",
    "    \n",
    "    \n",
    "q10_o=Q10EMI(10000,2,8)\n",
    "print(q10_o.emi())"
   ]
  },
  {
   "cell_type": "markdown",
   "metadata": {},
   "source": [
    "#### Question 11&nbsp;&nbsp;&nbsp;&nbsp;&nbsp;&nbsp;(10 Points)\n",
    "Create a class `Q11Employee` and set `name` and `age` attributes using two different setters and have getters for the same for printing the values. Default value of name is '' and age is 0. Print the values using getters. \n",
    "\n",
    "Create the class `Q11AccountDetails` and set account number and salary. Create the balance method, which returns salary * months_worked. Every variable should have set function to set the values and get function for printing. \n",
    "\n",
    "Set the name as 'John' using `set_name` function, age as 19 using `set_age`, `set_account` using value 1234, `set_salary` method with 1000. Print name using `get_name()`, age using `get_age()`, salary using `get_salary()`, and `balance_check(6)` for 6 months using the object `q11_o`."
   ]
  },
  {
   "cell_type": "code",
   "execution_count": 100,
   "metadata": {
    "tags": []
   },
   "outputs": [
    {
     "name": "stdout",
     "output_type": "stream",
     "text": [
      "sam 23\n",
      "19\n",
      "19\n",
      "John\n",
      "6000\n"
     ]
    }
   ],
   "source": [
    "# Write your solution here\n",
    "\n",
    "class Q11Employee:\n",
    "    \n",
    "       \n",
    "    def setter_fx(self,age=0,name=\"\"):\n",
    "        self._age=age\n",
    "        self._name=name\n",
    "    def getter_fx(self):\n",
    "        print (self._name,self._age) \n",
    "    \n",
    "class Q11AccoutDetails:\n",
    "    \n",
    "    def set_name(self,name=\"\"):\n",
    "        self._name=name\n",
    "    def set_age(self,age=0):\n",
    "        self._age=age\n",
    "    def set_account(self,account=0):\n",
    "        self._account=account\n",
    "    def set_salary(self,salary=0):\n",
    "        self._salary=salary\n",
    "    \n",
    "    def get_name(self,name=\"\"):\n",
    "        return self._name\n",
    "    def get_salary(self):\n",
    "        return self._salary\n",
    "    def get_age(self):\n",
    "        return self._age\n",
    "    def balance_check(self,month):\n",
    "        return self._salary*month\n",
    " \n",
    "    \n",
    "        \n",
    "        \n",
    "    \n",
    "c=Q11Employee() \n",
    "c.setter_fx(23,'sam')\n",
    "c.getter_fx()\n",
    "\n",
    "q11_o=Q11AccoutDetails()\n",
    "q11_o.set_name('John')\n",
    "q11_o.set_age(19)\n",
    "q11_o.set_account(1234)\n",
    "q11_o.set_salary(1000)\n",
    "print(c2.get_name())\n",
    "print(c2.get_age())\n",
    "print(c2.get_salary())\n",
    "print(c2.balance_check(6))"
   ]
  },
  {
   "cell_type": "markdown",
   "metadata": {},
   "source": [
    "#### Question 12&nbsp;&nbsp;&nbsp;&nbsp;&nbsp;&nbsp;(10 Points)\n",
    "Create a class `Q12Animal` with attributes `name` and `age`, and method `display` that prints the name and age of the animal in the following format: 'My name is X and Y years old'.\n",
    "\n",
    "Create the class `Q12Dog` and set `name` and `age` and have a `display` method again to print \"I am a Dog. My name is X and Y years old\". \n",
    "\n",
    "Create a class `Q12Cat` and set name and age. Your method name is `display` will print \"I am a Cat. My name is X and Y years old\".\n",
    "\n",
    "Outputs expected:  \n",
    "q12_o1 = Q12Animal('Tim', 9)  \n",
    "q12_o1.display()\n",
    "\n",
    "q12_o2 = Dog('Tom',10)  \n",
    "q12_o2.display()\n",
    "\n",
    "q12_o3 = Cat('Mil', 12)  \n",
    "q12_o3.display()"
   ]
  },
  {
   "cell_type": "code",
   "execution_count": 99,
   "metadata": {
    "tags": []
   },
   "outputs": [
    {
     "name": "stdout",
     "output_type": "stream",
     "text": [
      "My name is Tim and 9 years old\n"
     ]
    },
    {
     "data": {
      "text/plain": [
       "'I am a Cat. My name is Mil and 12 years old'"
      ]
     },
     "execution_count": 99,
     "metadata": {},
     "output_type": "execute_result"
    }
   ],
   "source": [
    "# Write your solution here\n",
    "class Q12Animal:\n",
    "    def __init__(self,name,age):\n",
    "        self.name=name\n",
    "        self.age=age\n",
    "    def display(self):\n",
    "        return f'My name is {self.name} and {self.age} years old'\n",
    "class Q12Dog:\n",
    "    def __init__(self,name,age):\n",
    "        self.name=name\n",
    "        self.age=age\n",
    "    def display(self):\n",
    "        return f'I am a Dog. My name is {self.name} and {self.age} years old'\n",
    "    \n",
    "class Q12Cat:\n",
    "    def __init__(self,name,age):\n",
    "        self.name=name\n",
    "        self.age=age\n",
    "    def display(self):\n",
    "           return f'I am a Cat. My name is {self.name} and {self.age} years old'\n",
    "q12_o1 = Q12Animal('Tim', 9)\n",
    "print(q12_o1.display())\n",
    "q12_o2 = Q12Dog('Tom',10)\n",
    "q12_o2.display()\n",
    "q12_o3 = Q12Cat('Mil', 12)\n",
    "q12_o3.display()\n",
    "    "
   ]
  },
  {
   "cell_type": "markdown",
   "metadata": {},
   "source": [
    "#### Question 13&nbsp;&nbsp;&nbsp;&nbsp;&nbsp;&nbsp;(20 Points)\n",
    "In this question, we will create a coordinate game in which we set the value of `x` and `y` using the class `Q13Point` as attributes. Whenever we use `move` method we would multiple the old value of `x` and `y` with new values, and set new variable `coords`, which returns the new x and y values in the format of `Coordinates are (x, y)`. \n",
    "\n",
    "Include method `__eq__` to check if the x and y values of the two objects are equal or not. \n",
    "\n",
    "Format is:\n",
    "```\n",
    "def __eq__(self, other):\n",
    "        return self.x == other.x and self.y == other.y\n",
    "```    \n",
    "\n",
    "When we have two instances `q13_o1` and `q13_o2`, we can compare using \n",
    "\n",
    "```\n",
    "isSame = (q13_o1 == q13_o2) #checking the condition\n",
    "print(isSame)\n",
    "```\n",
    "\n",
    "Check the value of `isSame` for the following case:\n",
    "```\n",
    "q13_o1 = Q14Point(10,10)\n",
    "q13_o1.move(2,9)\n",
    "q13_o2 = Q14Point(1,1)\n",
    "q13_o2.move(20,90)\n",
    "isSame = q13_o1 == q13_o2\n",
    "print(isSame)\n",
    "```"
   ]
  },
  {
   "cell_type": "code",
   "execution_count": 88,
   "metadata": {
    "tags": []
   },
   "outputs": [
    {
     "name": "stdout",
     "output_type": "stream",
     "text": [
      "Coordinates are (20, 90)\n",
      "Coordinates are (20, 90)\n",
      "True\n"
     ]
    }
   ],
   "source": [
    "# Write your solution here\n",
    "\n",
    "class Q13Point:\n",
    "    def __init__(self,x,y):\n",
    "        self.x=x\n",
    "        self.y=y\n",
    "    def move(self,x,y):\n",
    "        self.x*=x\n",
    "        self.y*=y\n",
    "        cords=f'Coordinates are ({self.x}, {self.y})'\n",
    "        print(cords)\n",
    "    def __eq__(self, other):\n",
    "        return self.x == other.x and self.y == other.y\n",
    "    \n",
    "q13_o1 = Q13Point(10,10)\n",
    "q13_o1.move(2,9)\n",
    "q13_o2 = Q13Point(1,1)\n",
    "q13_o2.move(20,90)\n",
    "isSame = q13_o1 == q13_o2\n",
    "print(isSame)    "
   ]
  },
  {
   "cell_type": "markdown",
   "metadata": {},
   "source": [
    "#### Question 14&nbsp;&nbsp;&nbsp;&nbsp;&nbsp;&nbsp;(20 Points)\n",
    "Create a class `Q14Dog` with attributes `name`, `age` and `__str__` method to return \"Name is Age years old\" (e.g., \"Sam is 2 years old\") and `sound` method that take `s` parameter and returns \"Name says s\" (e.g., \"Sam says bark\"). \n",
    "\n",
    "Create three classes:\n",
    "\n",
    "    1. Q14Bull\n",
    "    2. Q14Labra\n",
    "    3. Q14GermanS\n",
    "\n",
    "Have a species method in each of the three mentioned classes that retrun the species type. For example, if Bull species should return \"Species is Bull\" and check your code for the following cases.\n",
    "\n",
    "```\n",
    "q14_o = Q14Dog('Tim', 12)\n",
    "print(str(q14_o))\n",
    "print(q14_o.sound('bark'))\n",
    "\n",
    "q14_o1 = Q14Bull('Bu',4)\n",
    "print(str(q14_o1))\n",
    "print(q14_o1.species())\n",
    "\n",
    "q14_o2 = Q14Labra('La',3)\n",
    "print(str(q14_o2))\n",
    "print(q14_o2.species())\n",
    "\n",
    "q14_o3 = Q14GermanS('Ge',6)\n",
    "print(str(q14_o3))\n",
    "print(q14_o3.species())\n",
    "```"
   ]
  },
  {
   "cell_type": "code",
   "execution_count": 97,
   "metadata": {
    "tags": []
   },
   "outputs": [
    {
     "name": "stdout",
     "output_type": "stream",
     "text": [
      "Tim is Age years 12\n",
      "Tim says bark\n",
      "Bu is Age years 4\n",
      "Species is Bull\n",
      "La is Age years 3\n",
      "Species is Labra\n",
      "Ge is 6 years old\n",
      "Species is GermanS\n"
     ]
    }
   ],
   "source": [
    "# Write your solution here\n",
    "\n",
    "class Q14Dog:\n",
    "    def __init__(self,name,age):\n",
    "        self.name=name\n",
    "        self.age=age\n",
    "    def __str__(self):\n",
    "        return  f'{self.name} is {self.age} years old'\n",
    "    def sound(self,s):\n",
    "        return f'{self.name} says {s}'\n",
    "    \n",
    "    \n",
    "class Q14Bull(Q14Dog):\n",
    "    def __init__(self,name,age):\n",
    "        Q14Dog.__init__(self,name,age)\n",
    "        \n",
    "    def __str__(self):\n",
    "        return  f'{self.name} is {self.age} years old'\n",
    "    def species(self):\n",
    "        return f'Species is Bull'\n",
    "class Q14Labra(Q14Dog):\n",
    "    def __init__(self,name,age):\n",
    "        Q14Dog.__init__(self,name,age)\n",
    "        \n",
    "    def __str__(self):\n",
    "        return  f'{self.name} is {self.age} years old'\n",
    "    def species(self):\n",
    "        return f'Species is Labra'\n",
    "class Q14GermanS(Q14Dog):\n",
    "    def __init__(self,name,age):\n",
    "        Q14Dog.__init__(self,name,age)\n",
    "        \n",
    "    def __str__(self):\n",
    "        return  f'{self.name} is {self.age} years old'\n",
    "    def species(self):\n",
    "        return f'Species is GermanS'\n",
    "        \n",
    "    \n",
    "q14_o = Q14Dog('Tim', 12)\n",
    "print(str(q14_o))\n",
    "print(q14_o.sound('bark'))\n",
    "\n",
    "q14_o1 = Q14Bull('Bu',4)\n",
    "print(str(q14_o1))\n",
    "print(q14_o1.species())\n",
    "\n",
    "q14_o2 = Q14Labra('La',3)\n",
    "print(str(q14_o2))\n",
    "print(q14_o2.species())\n",
    "\n",
    "q14_o3 = Q14GermanS('Ge',6)\n",
    "print(str(q14_o3))\n",
    "print(q14_o3.species())"
   ]
  },
  {
   "cell_type": "code",
   "execution_count": null,
   "metadata": {},
   "outputs": [],
   "source": []
  }
 ],
 "metadata": {
  "celltoolbar": "Edit Metadata",
  "kernelspec": {
   "display_name": "Python 3 (ipykernel)",
   "language": "python",
   "name": "python3"
  },
  "language_info": {
   "codemirror_mode": {
    "name": "ipython",
    "version": 3
   },
   "file_extension": ".py",
   "mimetype": "text/x-python",
   "name": "python",
   "nbconvert_exporter": "python",
   "pygments_lexer": "ipython3",
   "version": "3.8.9"
  },
  "otter": {
   "tests": {
    "Question 01": {
     "name": "Question 01",
     "points": 3,
     "suites": [
      {
       "cases": [],
       "scored": true,
       "setup": "",
       "teardown": "",
       "type": "doctest"
      }
     ]
    },
    "Question 02": {
     "name": "Question 02",
     "points": 3,
     "suites": [
      {
       "cases": [],
       "scored": true,
       "setup": "",
       "teardown": "",
       "type": "doctest"
      }
     ]
    },
    "Question 03": {
     "name": "Question 03",
     "points": 3,
     "suites": [
      {
       "cases": [],
       "scored": true,
       "setup": "",
       "teardown": "",
       "type": "doctest"
      }
     ]
    },
    "Question 04": {
     "name": "Question 04",
     "points": 3,
     "suites": [
      {
       "cases": [],
       "scored": true,
       "setup": "",
       "teardown": "",
       "type": "doctest"
      }
     ]
    },
    "Question 05": {
     "name": "Question 05",
     "points": 3,
     "suites": [
      {
       "cases": [],
       "scored": true,
       "setup": "",
       "teardown": "",
       "type": "doctest"
      }
     ]
    },
    "Question 06": {
     "name": "Question 06",
     "points": 5,
     "suites": [
      {
       "cases": [],
       "scored": true,
       "setup": "",
       "teardown": "",
       "type": "doctest"
      }
     ]
    },
    "Question 07": {
     "name": "Question 07",
     "points": 5,
     "suites": [
      {
       "cases": [],
       "scored": true,
       "setup": "",
       "teardown": "",
       "type": "doctest"
      }
     ]
    },
    "Question 08": {
     "name": "Question 08",
     "points": 5,
     "suites": [
      {
       "cases": [],
       "scored": true,
       "setup": "",
       "teardown": "",
       "type": "doctest"
      }
     ]
    },
    "Question 09": {
     "name": "Question 09",
     "points": 5,
     "suites": [
      {
       "cases": [],
       "scored": true,
       "setup": "",
       "teardown": "",
       "type": "doctest"
      }
     ]
    },
    "Question 10": {
     "name": "Question 10",
     "points": 5,
     "suites": [
      {
       "cases": [],
       "scored": true,
       "setup": "",
       "teardown": "",
       "type": "doctest"
      }
     ]
    },
    "Question 11": {
     "name": "Question 11",
     "points": 10,
     "suites": [
      {
       "cases": [],
       "scored": true,
       "setup": "",
       "teardown": "",
       "type": "doctest"
      }
     ]
    },
    "Question 12": {
     "name": "Question 12",
     "points": 10,
     "suites": [
      {
       "cases": [],
       "scored": true,
       "setup": "",
       "teardown": "",
       "type": "doctest"
      }
     ]
    },
    "Question 13": {
     "name": "Question 13",
     "points": 20,
     "suites": [
      {
       "cases": [],
       "scored": true,
       "setup": "",
       "teardown": "",
       "type": "doctest"
      }
     ]
    },
    "Question 14": {
     "name": "Question 14",
     "points": 20,
     "suites": [
      {
       "cases": [],
       "scored": true,
       "setup": "",
       "teardown": "",
       "type": "doctest"
      }
     ]
    }
   }
  },
  "varInspector": {
   "cols": {
    "lenName": 16,
    "lenType": 16,
    "lenVar": 40
   },
   "kernels_config": {
    "python": {
     "delete_cmd_postfix": "",
     "delete_cmd_prefix": "del ",
     "library": "var_list.py",
     "varRefreshCmd": "print(var_dic_list())"
    },
    "r": {
     "delete_cmd_postfix": ") ",
     "delete_cmd_prefix": "rm(",
     "library": "var_list.r",
     "varRefreshCmd": "cat(var_dic_list()) "
    }
   },
   "types_to_exclude": [
    "module",
    "function",
    "builtin_function_or_method",
    "instance",
    "_Feature"
   ],
   "window_display": false
  }
 },
 "nbformat": 4,
 "nbformat_minor": 4
}
